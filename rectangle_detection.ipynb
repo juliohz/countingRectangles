{
 "cells": [
  {
   "cell_type": "markdown",
   "metadata": {},
   "source": [
    "# Rectangle counting\n",
    "\n",
    "In this notebook a neural network is used to correctly guess the numbre of vehicles in an image. The structure is as follows:\n",
    "\n",
    "* input: image with vehicles\n",
    "* output: number of vehicles per image\n",
    "\n",
    "<br>\n",
    "\n",
    "Let's start first with the imports."
   ]
  },
  {
   "cell_type": "code",
   "execution_count": 2,
   "metadata": {
    "scrolled": true
   },
   "outputs": [
    {
     "name": "stderr",
     "output_type": "stream",
     "text": [
      "C:\\ProgramData\\Anaconda3\\envs\\tensorflow\\lib\\site-packages\\h5py\\__init__.py:36: FutureWarning: Conversion of the second argument of issubdtype from `float` to `np.floating` is deprecated. In future, it will be treated as `np.float64 == np.dtype(float).type`.\n",
      "  from ._conv import register_converters as _register_converters\n",
      "Using TensorFlow backend.\n"
     ]
    }
   ],
   "source": [
    "import pickle\n",
    "import numpy as np\n",
    "import matplotlib\n",
    "import matplotlib.pyplot as plt\n",
    "\n",
    "from matplotlib.backends.backend_pdf import PdfPages\n",
    "\n",
    "from keras.models import Sequential, model_from_json\n",
    "from keras.layers.convolutional import Conv2D, MaxPooling2D\n",
    "from keras.layers.core import Flatten, Dense, Dropout, Activation"
   ]
  },
  {
   "cell_type": "markdown",
   "metadata": {},
   "source": [
    "### 1) Data creation"
   ]
  },
  {
   "cell_type": "code",
   "execution_count": 3,
   "metadata": {},
   "outputs": [],
   "source": [
    "# Main variables\n",
    "num_imgs = 40000\n",
    "img_size = 200\n",
    "min_num_figs = 0\n",
    "max_num_figs = 29 # (included)\n",
    "w_1, h_1 = 4, 2\n",
    "w_2, h_2 = 21, 3\n",
    "version = 'v1' # to be added when saving data"
   ]
  },
  {
   "cell_type": "code",
   "execution_count": 4,
   "metadata": {},
   "outputs": [],
   "source": [
    "# To avoid having vehicles overlapping each other we divided the image into a grid\n",
    "grid = 6\n",
    "grid_length = img_size / grid\n",
    "\n",
    "possible_positions = [(x, y) for x in range(grid) for y in range(grid)]"
   ]
  },
  {
   "cell_type": "code",
   "execution_count": 5,
   "metadata": {},
   "outputs": [],
   "source": [
    "# Function to create the circles\n",
    "def create_imgs(num_imgs):\n",
    "    \n",
    "    # Arrays to store the figure as a matrix with white background (0) and the figure drawn in black (1)\n",
    "    imgs_input = np.zeros((num_imgs, img_size, img_size))  # input\n",
    "    vals_output = np.zeros((num_imgs, int(np.ceil(max_num_figs / 10)))) # output\n",
    "    exact_number_of_figs_output = np.zeros(num_imgs)\n",
    "    \n",
    "    # Main loop for each image\n",
    "    for i_img in range(num_imgs):\n",
    "        \n",
    "        if i_img % 5000 == 0: # to visualize progress\n",
    "            print(i_img)\n",
    "            \n",
    "        num_figures = np.random.randint(min_num_figs, max_num_figs + 1)\n",
    "        vals_output[i_img, int(np.floor(num_figures / 10))] = 1 # we save the number of figures\n",
    "        exact_number_of_figs_output[i_img] = num_figures # we save the number of figures\n",
    "        \n",
    "        # Index of the small area in grid\n",
    "        np.random.shuffle(possible_positions)\n",
    "        \n",
    "        for i_fig in range(num_figures):\n",
    "            \n",
    "            if i_fig < max_num_figs:\n",
    "                (i, j) = possible_positions[i_fig]\n",
    "            else:\n",
    "                (i, j) = np.random.choice(possible_positions)\n",
    "        \n",
    "            # To select between the two possible sizes\n",
    "            one_or_two = np.random.choice([1, 2])\n",
    "            \n",
    "            # Width and height parameters\n",
    "            if one_or_two == 1:\n",
    "                w, h = w_1, h_1\n",
    "            elif one_or_two == 2:\n",
    "                w, h = w_2, h_2\n",
    "            \n",
    "            # Angle \n",
    "            th = 0 # (now set to zero)\n",
    "            c, s = np.cos(th), np.sin(th)\n",
    "            \n",
    "            # Position of the first point (we try to make sure that the rectangle is inside the image)\n",
    "            x = np.random.randint(grid_length * i, grid_length * (i + 1) - w)\n",
    "            y = np.random.randint(grid_length * j, grid_length * (j + 1) - h)\n",
    "            \n",
    "            # To draw the rectangle with ones inside the matrix (imgs) we need to calculate the 4 corners of the rectangle\n",
    "            xA, yA = x, y\n",
    "            xB, yB = x + w, y\n",
    "            xC, yC = x + w, y + h\n",
    "            xD, yD = x, y + h\n",
    "            \n",
    "            # We get the min and max values for the loop that will fill with ones the position of the rectangle in the matrix \n",
    "            min_x, max_x = int(np.ceil(min(xA, xB, xC, xD))), int(np.floor(max(xA, xB, xC, xD)))\n",
    "            min_y, max_y = int(np.ceil(min(yA, yB, yC, yD))), int(np.floor(max(yA, yB, yC, yD)))\n",
    "            \n",
    "            # The rectangle is drawn in the imgs matrix\n",
    "            for i_x in range(max(0, min_x), min(img_size, max_x)): # We fix the limits between 0 and img_size\n",
    "                for i_y in range(max(0, min_y), min(img_size, max_y)):\n",
    "            \n",
    "                    # To build the rectangle we use the equations of the 4 lines that build it\n",
    "                    if (i_y - yA >= (i_x - xA) * np.tan(th)) and (i_y - yC <= (i_x - xC) * np.tan(th)) and \\\n",
    "                    (i_y - yA >= (i_x - xA) * np.tan(th - np.pi / 2)) and (i_y - yB <= (i_x - xB) * np.tan(th - np.pi / 2)):\n",
    "                        imgs_input[i_img, i_x, i_y] = 1. # We place a 1 if the x, y point is inside the rectangle\n",
    "            \n",
    "    return imgs_input, vals_output, exact_number_of_figs_output"
   ]
  },
  {
   "cell_type": "code",
   "execution_count": 6,
   "metadata": {},
   "outputs": [
    {
     "name": "stdout",
     "output_type": "stream",
     "text": [
      "0\n",
      "5000\n",
      "10000\n",
      "15000\n",
      "20000\n",
      "25000\n",
      "30000\n",
      "35000\n"
     ]
    }
   ],
   "source": [
    "imgs_input, vals_output, exact_number_of_figs_output = create_imgs(num_imgs)"
   ]
  },
  {
   "cell_type": "markdown",
   "metadata": {},
   "source": [
    "We can now plot several figures to see them on the notebook."
   ]
  },
  {
   "cell_type": "code",
   "execution_count": 7,
   "metadata": {
    "scrolled": true
   },
   "outputs": [
    {
     "data": {
      "image/png": "[encoded data removed]",
      "text/plain": [
       "<Figure size 720x720 with 6 Axes>"
      ]
     },
     "metadata": {},
     "output_type": "display_data"
    }
   ],
   "source": [
    "# We now plot several of the created figures\n",
    "plt.figure(figsize=(10, 10))\n",
    "for i in range(1, 7):\n",
    "    r = np.random.randint(0, num_imgs)\n",
    "    plt.subplot(1, 6, i)\n",
    "    plt.imshow(imgs_input[r].T, cmap='Greys', interpolation='none', origin='lower', extent=[0, img_size, 0, img_size])\n",
    "    plt.title(str(int(exact_number_of_figs_output[r])) + ' fig / class ' + str(vals_output[r].argmax()))\n",
    "plt.show()"
   ]
  },
  {
   "cell_type": "code",
   "execution_count": 8,
   "metadata": {},
   "outputs": [],
   "source": [
    "# Image warping\n",
    "import cv2\n",
    "\n",
    "def image_resize(image, width = None, height = None, inter = cv2.INTER_AREA):\n",
    "    # initialize the dimensions of the image to be resized and\n",
    "    # grab the image size\n",
    "    dim = None\n",
    "    (h, w) = image.shape[:2]\n",
    "\n",
    "    # if both the width and height are None, then return the\n",
    "    # original image\n",
    "    if width is None and height is None:\n",
    "        return image\n",
    "\n",
    "    # check to see if the width is None\n",
    "    if width is None:\n",
    "        # calculate the ratio of the height and construct the\n",
    "        # dimensions\n",
    "        r = height / float(h)\n",
    "        dim = (int(w * r), height)\n",
    "\n",
    "    # otherwise, the height is None\n",
    "    else:\n",
    "        # calculate the ratio of the width and construct the\n",
    "        # dimensions\n",
    "        r = width / float(w)\n",
    "        dim = (width, int(h * r))\n",
    "\n",
    "    # resize the image\n",
    "    resized = cv2.resize(image, dim, interpolation = inter)\n",
    "\n",
    "    # return the resized image\n",
    "    return resized\n",
    "\n",
    "warped_size = 50\n",
    "warped_imgs_input = np.zeros((num_imgs, warped_size, warped_size))\n",
    "for i in range(num_imgs):\n",
    "    warped_imgs_input[i] = image_resize(imgs_input[i], height = warped_size).T"
   ]
  },
  {
   "cell_type": "code",
   "execution_count": 10,
   "metadata": {},
   "outputs": [
    {
     "data": {
      "image/png": "[encoded data removed]",
      "text/plain": [
       "<Figure size 720x720 with 6 Axes>"
      ]
     },
     "metadata": {},
     "output_type": "display_data"
    }
   ],
   "source": [
    "# We now plot several of the created figures\n",
    "plt.figure(figsize=(10, 10))\n",
    "for i in range(1, 7):\n",
    "    r = np.random.randint(0, num_imgs)\n",
    "    plt.subplot(1, 6, i)\n",
    "    plt.imshow(warped_imgs_input[r], cmap='Greys', interpolation='none', origin='lower', extent=[0, img_size, 0, img_size])\n",
    "    plt.title(str(int(exact_number_of_figs_output[r])) + ' fig / class ' + str(vals_output[r].argmax()))\n",
    "plt.show()"
   ]
  },
  {
   "cell_type": "markdown",
   "metadata": {},
   "source": [
    "### 2) Creation of the neural network\n",
    "\n",
    "Here we define:\n",
    "\n",
    "1. The main parameters\n",
    "1. A function to separate between train ant test (split must be predefined)\n",
    "1. A function to create the neural network"
   ]
  },
  {
   "cell_type": "code",
   "execution_count": 12,
   "metadata": {},
   "outputs": [],
   "source": [
    "# Neural network parameters\n",
    "split = 0.8 # (= train/total)\n",
    "n_epochs = 25\n",
    "init_lr = 1e-3 # initial learning rate\n",
    "bs = 32 # batch size\n",
    "loss_fun = 'categorical_crossentropy'"
   ]
  },
  {
   "cell_type": "code",
   "execution_count": 13,
   "metadata": {},
   "outputs": [],
   "source": [
    "# Data scaling and data partition into training and testing sets\n",
    "def create_train_test_sets(imgs_input, vals_output, split):\n",
    "    \n",
    "    X = imgs_input\n",
    "    num_imgs = X.shape[0] # number of figures\n",
    "    y = vals_output\n",
    "    \n",
    "    # Split into training and test sets:\n",
    "    i = int(split * num_imgs)\n",
    "    train_X = X[:i]\n",
    "    test_X = X[i:]\n",
    "    train_y = y[:i]\n",
    "    test_y = y[i:]\n",
    "    \n",
    "    # Adapt the shapes for the CNN (input)\n",
    "    train_X = train_X.reshape(train_X.shape + (1,))\n",
    "    test_X = test_X.reshape(test_X.shape + (1,))\n",
    "    \n",
    "    return train_X, test_X, train_y, test_y"
   ]
  },
  {
   "cell_type": "code",
   "execution_count": 14,
   "metadata": {},
   "outputs": [],
   "source": [
    "# Creation of the neural network\n",
    "def build_nn(input_shape, output_shape):\n",
    "    \n",
    "    filter_size = 3\n",
    "    pool_size = 2\n",
    "    model = Sequential([\n",
    "        Conv2D(32, (6, 6), input_shape=input_shape, activation='relu'), \n",
    "        MaxPooling2D(pool_size=(pool_size, pool_size)), \n",
    "        Conv2D(64, (filter_size, filter_size), activation='relu'), \n",
    "        MaxPooling2D(pool_size=(pool_size, pool_size)), \n",
    "        Conv2D(128, (filter_size, filter_size), activation='relu'), \n",
    "        Conv2D(128, (filter_size, filter_size), activation='relu'), \n",
    "        Flatten(), \n",
    "        Dropout(0.4), \n",
    "        Dense(50, activation='relu'), \n",
    "        Dropout(0.4), \n",
    "        Dense(output_shape, activation='softmax')\n",
    "    ])\n",
    "    \n",
    "    return model"
   ]
  },
  {
   "cell_type": "markdown",
   "metadata": {},
   "source": [
    "### 3) Network training and predictions"
   ]
  },
  {
   "cell_type": "code",
   "execution_count": 15,
   "metadata": {},
   "outputs": [],
   "source": [
    "# We divide the data into x and y train and test sets\n",
    "[x_train, x_test, y_train, y_test] = create_train_test_sets(warped_imgs_input, vals_output, split)"
   ]
  },
  {
   "cell_type": "code",
   "execution_count": 16,
   "metadata": {},
   "outputs": [
    {
     "name": "stdout",
     "output_type": "stream",
     "text": [
      "Train on 27200 samples, validate on 4800 samples\n",
      "Epoch 1/25\n",
      "27200/27200 [==============================] - 180s 7ms/step - loss: 0.4564 - acc: 0.7960 - val_loss: 0.2649 - val_acc: 0.8896\n",
      "Epoch 2/25\n",
      "27200/27200 [==============================] - 175s 6ms/step - loss: 0.2685 - acc: 0.8863 - val_loss: 0.1715 - val_acc: 0.9271\n",
      "Epoch 3/25\n",
      "27200/27200 [==============================] - 183s 7ms/step - loss: 0.2220 - acc: 0.9090 - val_loss: 0.1530 - val_acc: 0.9346\n",
      "Epoch 4/25\n",
      "27200/27200 [==============================] - 187s 7ms/step - loss: 0.1997 - acc: 0.9178 - val_loss: 0.2055 - val_acc: 0.9042\n",
      "Epoch 5/25\n",
      "27200/27200 [==============================] - 192s 7ms/step - loss: 0.1779 - acc: 0.9260 - val_loss: 0.1349 - val_acc: 0.9396\n",
      "Epoch 6/25\n",
      "27200/27200 [==============================] - 175s 6ms/step - loss: 0.1685 - acc: 0.9308 - val_loss: 0.1316 - val_acc: 0.9448\n",
      "Epoch 7/25\n",
      "27200/27200 [==============================] - 179s 7ms/step - loss: 0.1580 - acc: 0.9357 - val_loss: 0.1300 - val_acc: 0.9431\n",
      "Epoch 8/25\n",
      "27200/27200 [==============================] - 183s 7ms/step - loss: 0.1421 - acc: 0.9442 - val_loss: 0.1282 - val_acc: 0.9450\n",
      "Epoch 9/25\n",
      "27200/27200 [==============================] - 178s 7ms/step - loss: 0.1334 - acc: 0.9439 - val_loss: 0.1527 - val_acc: 0.9390\n",
      "Epoch 10/25\n",
      "27200/27200 [==============================] - 178s 7ms/step - loss: 0.1226 - acc: 0.9510 - val_loss: 0.1865 - val_acc: 0.9233\n",
      "Epoch 11/25\n",
      "27200/27200 [==============================] - 187s 7ms/step - loss: 0.1135 - acc: 0.9562 - val_loss: 0.2161 - val_acc: 0.9267\n",
      "Epoch 12/25\n",
      "27200/27200 [==============================] - 175s 6ms/step - loss: 0.1077 - acc: 0.9586 - val_loss: 0.2875 - val_acc: 0.9029\n",
      "Epoch 13/25\n",
      "27200/27200 [==============================] - 188s 7ms/step - loss: 0.0947 - acc: 0.9638 - val_loss: 0.1460 - val_acc: 0.9440\n",
      "Epoch 14/25\n",
      "27200/27200 [==============================] - 185s 7ms/step - loss: 0.0893 - acc: 0.9659 - val_loss: 0.1615 - val_acc: 0.9406\n",
      "Epoch 15/25\n",
      "27200/27200 [==============================] - 194s 7ms/step - loss: 0.0807 - acc: 0.9689 - val_loss: 0.1552 - val_acc: 0.9387\n",
      "Epoch 16/25\n",
      "27200/27200 [==============================] - 184s 7ms/step - loss: 0.0776 - acc: 0.9702 - val_loss: 0.2054 - val_acc: 0.9308\n",
      "Epoch 17/25\n",
      "27200/27200 [==============================] - 173s 6ms/step - loss: 0.0653 - acc: 0.9766 - val_loss: 0.2423 - val_acc: 0.9233\n",
      "Epoch 18/25\n",
      "27200/27200 [==============================] - 181s 7ms/step - loss: 0.0622 - acc: 0.9771 - val_loss: 0.2012 - val_acc: 0.9360\n",
      "Epoch 19/25\n",
      "27200/27200 [==============================] - 185s 7ms/step - loss: 0.0577 - acc: 0.9803 - val_loss: 0.1605 - val_acc: 0.9450\n",
      "Epoch 20/25\n",
      "27200/27200 [==============================] - 181s 7ms/step - loss: 0.0545 - acc: 0.9796 - val_loss: 0.1722 - val_acc: 0.9408\n",
      "Epoch 21/25\n",
      "27200/27200 [==============================] - 171s 6ms/step - loss: 0.0497 - acc: 0.9826 - val_loss: 0.1991 - val_acc: 0.9392\n",
      "Epoch 22/25\n",
      "27200/27200 [==============================] - 182s 7ms/step - loss: 0.0482 - acc: 0.9834 - val_loss: 0.2281 - val_acc: 0.9383\n",
      "Epoch 23/25\n",
      "27200/27200 [==============================] - 192s 7ms/step - loss: 0.0454 - acc: 0.9841 - val_loss: 0.2171 - val_acc: 0.9410\n",
      "Epoch 24/25\n",
      "27200/27200 [==============================] - 183s 7ms/step - loss: 0.0431 - acc: 0.9853 - val_loss: 0.2104 - val_acc: 0.9402\n",
      "Epoch 25/25\n",
      "27200/27200 [==============================] - 187s 7ms/step - loss: 0.0377 - acc: 0.9868 - val_loss: 0.2225 - val_acc: 0.9413\n"
     ]
    },
    {
     "data": {
      "text/plain": [
       "<keras.callbacks.History at 0x1e365875eb8>"
      ]
     },
     "execution_count": 16,
     "metadata": {},
     "output_type": "execute_result"
    }
   ],
   "source": [
    "input_shape = x_train[-1].shape\n",
    "output_shape = vals_output.shape[1]\n",
    "\n",
    "model = build_nn(input_shape, output_shape)\n",
    "model.compile(loss = loss_fun, optimizer = 'adadelta',  metrics = ['accuracy'])      \n",
    "model.fit(x_train, y_train, batch_size = bs, epochs = n_epochs, verbose = 1, validation_split = 0.15)"
   ]
  },
  {
   "cell_type": "code",
   "execution_count": 19,
   "metadata": {},
   "outputs": [],
   "source": [
    "# Evaluation\n",
    "pred_y = model.predict(x_test)\n",
    "\n",
    "[loss_train, acc_train] = model.evaluate(x = x_train, y = y_train, verbose = 0)\n",
    "[loss_test, acc_test] = model.evaluate(x = x_test, y = y_test, verbose = 0)\n",
    "\n",
    "n_param = model.count_params()"
   ]
  },
  {
   "cell_type": "markdown",
   "metadata": {},
   "source": [
    "### 4) Results"
   ]
  },
  {
   "cell_type": "code",
   "execution_count": 20,
   "metadata": {},
   "outputs": [
    {
     "name": "stdout",
     "output_type": "stream",
     "text": [
      "loss_train: 0.03873352728759346\n",
      "acc_train: 0.98953125\n",
      "loss_test: 0.23087115354009438\n",
      "acc_test: 0.94025\n",
      "n_param: 471723\n"
     ]
    }
   ],
   "source": [
    "print('loss_train:', loss_train)\n",
    "print('acc_train:', acc_train)\n",
    "print('loss_test:', loss_test)\n",
    "print('acc_test:', acc_test)\n",
    "print('n_param:', n_param)"
   ]
  },
  {
   "cell_type": "code",
   "execution_count": 21,
   "metadata": {},
   "outputs": [],
   "source": [
    "test_size = pred_y.shape[0]\n",
    "possible_num_figs = pred_y.shape[1]\n",
    "test_figs = np.asarray(x_test).reshape((x_test.shape[0:3]))\n",
    "# We transform the result vector to 1 and 0\n",
    "results = np.zeros((test_size, possible_num_figs))\n",
    "for i in range(test_size):\n",
    "    aux = np.argmax(pred_y[i])\n",
    "    results[i, aux] = 1"
   ]
  },
  {
   "cell_type": "code",
   "execution_count": 32,
   "metadata": {
    "scrolled": true
   },
   "outputs": [
    {
     "data": {
      "image/png": "[encoded data removed]",
      "text/plain": [
       "<Figure size 432x288 with 1 Axes>"
      ]
     },
     "metadata": {},
     "output_type": "display_data"
    }
   ],
   "source": [
    "# Visualization\n",
    "a = np.random.randint(0, test_size)\n",
    "plt.imshow(test_figs[a], cmap='Greys', interpolation='none', origin='lower', extent=[0, img_size, 0, img_size])\n",
    "real_num_figs = np.argmax(y_test[a])\n",
    "predicted_num_figs = np.argmax(results[a])\n",
    "title_obj = plt.title('Real: ' + str(real_num_figs) + ' / Predicted: ' + str(predicted_num_figs))\n",
    "if real_num_figs != predicted_num_figs:\n",
    "    plt.setp(title_obj, color='r')\n",
    "else:\n",
    "    plt.setp(title_obj, color='g')"
   ]
  },
  {
   "cell_type": "code",
   "execution_count": 37,
   "metadata": {},
   "outputs": [
    {
     "data": {
      "image/png": "[encoded data removed]",
      "text/plain": [
       "<Figure size 720x151.2 with 6 Axes>"
      ]
     },
     "metadata": {},
     "output_type": "display_data"
    }
   ],
   "source": [
    "# We now plot several of the created figures\n",
    "plt.figure(figsize=(10, 2.1))\n",
    "plt.suptitle('Real class / Predicted class')\n",
    "for i in range(1, 7):\n",
    "    a = np.random.randint(0, test_size)\n",
    "    plt.subplot(1, 6, i)\n",
    "    plt.imshow(test_figs[a], cmap='Greys', interpolation='none', origin='lower', extent=[0, img_size, 0, img_size])\n",
    "    real_num_figs = np.argmax(y_test[a])\n",
    "    predicted_num_figs = np.argmax(results[a])\n",
    "    title_obj = plt.title(str(real_num_figs) + ' / ' + str(predicted_num_figs))\n",
    "    if real_num_figs != predicted_num_figs:\n",
    "        plt.setp(title_obj, color='r')\n",
    "    else:\n",
    "        plt.setp(title_obj, color='g')\n",
    "plt.show()"
   ]
  },
  {
   "cell_type": "code",
   "execution_count": 38,
   "metadata": {},
   "outputs": [],
   "source": [
    "# Save in a pdf\n",
    "sample_size = 50\n",
    "\n",
    "pdf_path_name = 'myPath/myPDFName.pdf'\n",
    "\n",
    "with PdfPages('pdf_path_name') as pdf: # We open the pdf file\n",
    "\n",
    "    for i in range(sample_size):\n",
    "        plt.imshow(test_figs[i].T, cmap='Greys', interpolation='none', origin='lower', extent=[0, img_size, 0, img_size])\n",
    "        real_num_figs = np.argmax(y_test[i])\n",
    "        predicted_num_figs = np.argmax(results[i])\n",
    "        title_obj = plt.title('Real: ' + str(real_num_figs) + ' / Predicted: ' + str(predicted_num_figs))\n",
    "        if real_num_figs != predicted_num_figs:\n",
    "            plt.setp(title_obj, color='r')\n",
    "        else:\n",
    "            plt.setp(title_obj, color='g')\n",
    "        pdf.savefig()\n",
    "        plt.close()"
   ]
  },
  {
   "cell_type": "markdown",
   "metadata": {},
   "source": [
    "### 5) Validation\n",
    "\n",
    "Information is saved to a text file.\n",
    "\n",
    "##### 5.1) Confusion matrix"
   ]
  },
  {
   "cell_type": "code",
   "execution_count": 39,
   "metadata": {},
   "outputs": [],
   "source": [
    "from tabulate import tabulate\n",
    "\n",
    "num_classes = pred_y.shape[1]\n",
    "\n",
    "print('Validation for version: ' + version,  file = f)\n",
    "print('No colour / No angle / Output as classes of groups of ten', file = f)\n",
    "print('\\n', file = f)"
   ]
  },
  {
   "cell_type": "code",
   "execution_count": 40,
   "metadata": {},
   "outputs": [
    {
     "name": "stdout",
     "output_type": "stream",
     "text": [
      "| CLASS 0             | is class   | is other class   |\n",
      "|---------------------+------------+------------------|\n",
      "| pred is class       | TP = 2658  | FP = 115         |\n",
      "| pred is other class | FN = 74    | TN = 5153        |\n",
      "\n",
      "\n",
      "| CLASS 1             | is class   | is other class   |\n",
      "|---------------------+------------+------------------|\n",
      "| pred is class       | TP = 2335  | FP = 203         |\n",
      "| pred is other class | FN = 275   | TN = 5187        |\n",
      "\n",
      "\n",
      "| CLASS 2             | is class   | is other class   |\n",
      "|---------------------+------------+------------------|\n",
      "| pred is class       | TP = 2529  | FP = 160         |\n",
      "| pred is other class | FN = 129   | TN = 5182        |\n",
      "\n",
      "\n"
     ]
    }
   ],
   "source": [
    "TPR, FPR = np.zeros(num_classes), np.zeros(num_classes)\n",
    "for i_class in range(num_classes):\n",
    "    TP, FP, TN, FN = 0, 0, 0, 0\n",
    "    cond_true, cond_false = 0, 0\n",
    "    for i in range(test_size):\n",
    "        if pred_y[i].argmax() == i_class and y_test[i].argmax() == i_class:\n",
    "            TP += 1\n",
    "            cond_true += 1\n",
    "        elif pred_y[i].argmax() == i_class and y_test[i].argmax() != i_class:\n",
    "            FP += 1\n",
    "            cond_false += 1\n",
    "        elif pred_y[i].argmax() != i_class and y_test[i].argmax() != i_class:\n",
    "            TN += 1\n",
    "            cond_false += 1\n",
    "        else:\n",
    "            FN += 1\n",
    "            cond_true += 1\n",
    "    TPR[i_class] = TP / cond_true\n",
    "    FPR[i_class] = FP / cond_false\n",
    "\n",
    "    print(tabulate([['pred is class', 'TP = '+ str(TP), 'FP = '+ str(FP)], \n",
    "                    ['pred is other class', 'FN = '+ str(FN), 'TN = '+ str(TN)]], \n",
    "                   headers=['CLASS ' + str(i_class), 'is class', 'is other class'], tablefmt='orgtbl'))\n",
    "    print('\\n')\n",
    "\n",
    "    # We print in the .txt file too\n",
    "    print(tabulate([['pred is class', 'TP = '+ str(TP), 'FP = '+ str(FP)], \n",
    "                    ['pred is other class', 'FN = '+ str(FN), 'TN = '+ str(TN)]], \n",
    "                   headers=['CLASS ' + str(i_class), 'is class', 'is other class'], tablefmt='orgtbl'), file = f)\n",
    "    print('\\n', file = f)"
   ]
  },
  {
   "cell_type": "code",
   "execution_count": 41,
   "metadata": {},
   "outputs": [
    {
     "name": "stdout",
     "output_type": "stream",
     "text": [
      "TPR =  [0.97291362 0.89463602 0.95146727]\n",
      "FPR =  [0.02182992 0.03766234 0.02995133]\n",
      "specificity =  [0.97291362 0.89463602 0.95146727]\n",
      "sensitivity =  [0.97817008 0.96233766 0.97004867]\n"
     ]
    }
   ],
   "source": [
    "specificity = TPR\n",
    "sensitivity = 1 - FPR\n",
    "\n",
    "print('TPR = ', TPR)\n",
    "print('FPR = ', FPR)\n",
    "print('specificity = ', specificity)\n",
    "print('sensitivity = ', sensitivity)\n",
    "\n",
    "\n",
    "print('\\n', file = f)\n",
    "print('TPR = ', TPR, file = f)\n",
    "print('FPR = ', FPR, file = f)\n",
    "print('specificity = ', specificity, file = f)\n",
    "print('sensitivity = ', sensitivity, file = f)"
   ]
  },
  {
   "cell_type": "markdown",
   "metadata": {},
   "source": [
    "##### 5.2) ROC curve"
   ]
  },
  {
   "cell_type": "code",
   "execution_count": 42,
   "metadata": {},
   "outputs": [
    {
     "data": {
      "image/png": "[encoded data removed]",
      "text/plain": [
       "<Figure size 432x288 with 1 Axes>"
      ]
     },
     "metadata": {},
     "output_type": "display_data"
    }
   ],
   "source": [
    "import matplotlib.pyplot as plt\n",
    "\n",
    "for i in range(num_classes):\n",
    "    plt.plot(FPR[i], TPR[i], 'o')\n",
    "plt.plot([0,1], 'r--')\n",
    "plt.legend(range(num_classes))\n",
    "plt.title('ROC')\n",
    "plt.ylabel('TPR')\n",
    "plt.xlabel('FPR')\n",
    "plt.show()"
   ]
  },
  {
   "cell_type": "code",
   "execution_count": 43,
   "metadata": {},
   "outputs": [],
   "source": [
    "# ROC curve based on a threshold\n",
    "TPR, FPR = np.zeros((num_classes, 10)), np.zeros((num_classes, 10))\n",
    "for i_class in range(num_classes):\n",
    "    for pos in range(0, 10):\n",
    "        threshold = pos / 10\n",
    "        TP, FP, TN, FN = 0, 0, 0, 0\n",
    "        cond_true, cond_false = 0, 0\n",
    "        for i in range(test_size):\n",
    "            if pred_y[i, i_class] >= threshold:\n",
    "                if y_test[i, i_class] == 1:\n",
    "                    TP += 1\n",
    "                    cond_true += 1\n",
    "                else: \n",
    "                    FP += 1\n",
    "                    cond_false += 1\n",
    "            else:\n",
    "                if y_test[i, i_class] == 1:\n",
    "                    FN += 1\n",
    "                    cond_true += 1\n",
    "                else: \n",
    "                    TN += 1\n",
    "                    cond_false += 1\n",
    "\n",
    "        TPR[i_class, pos] = TP / cond_true\n",
    "        FPR[i_class, pos] = FP / cond_false"
   ]
  },
  {
   "cell_type": "code",
   "execution_count": 44,
   "metadata": {},
   "outputs": [
    {
     "data": {
      "image/png": "[encoded data removed]",
      "text/plain": [
       "<Figure size 432x288 with 1 Axes>"
      ]
     },
     "metadata": {},
     "output_type": "display_data"
    }
   ],
   "source": [
    "for i in range(num_classes):\n",
    "    plt.plot(FPR[i], TPR[i])\n",
    "plt.plot([0,1], 'r--')\n",
    "plt.title('ROC curves')\n",
    "plt.legend(range(num_classes))\n",
    "plt.ylabel('TPR')\n",
    "plt.xlabel('FPR')\n",
    "plt.show()"
   ]
  },
  {
   "cell_type": "markdown",
   "metadata": {},
   "source": [
    "##### 5.3) Probability analysis\n",
    "\n",
    "To evaluate the accuracy of the probabilities predicted."
   ]
  },
  {
   "cell_type": "code",
   "execution_count": 45,
   "metadata": {},
   "outputs": [],
   "source": [
    "# Mean probability when right\n",
    "probas = np.zeros(num_classes)\n",
    "for i_class in range(num_classes):\n",
    "    for i in range(test_size):\n",
    "        pred_class = pred_y[i].argmax()\n",
    "        if pred_class == y_test[i].argmax():\n",
    "            probas[pred_class] += pred_y[i, pred_class]\n",
    "probas /= test_size\n",
    "probas\n",
    "\n",
    "print('\\n', file = f)\n",
    "print('Mean probability when right = ', probas, file = f)"
   ]
  },
  {
   "cell_type": "code",
   "execution_count": 49,
   "metadata": {},
   "outputs": [
    {
     "data": {
      "text/plain": [
       "array([0.99172215, 0.86288073, 0.94073505])"
      ]
     },
     "execution_count": 49,
     "metadata": {},
     "output_type": "execute_result"
    }
   ],
   "source": [
    "probas"
   ]
  },
  {
   "cell_type": "code",
   "execution_count": 46,
   "metadata": {},
   "outputs": [],
   "source": [
    "# mean of difference of probability and next biggest proba when right\n",
    "def second_largest(numbers):\n",
    "    count = 0\n",
    "    m1 = m2 = float('-inf')\n",
    "    for x in numbers:\n",
    "        count += 1\n",
    "        if x > m2:\n",
    "            if x >= m1:\n",
    "                m1, m2 = x, m1            \n",
    "            else:\n",
    "                m2 = x\n",
    "    return m2 if count >= 2 else None\n",
    "\n",
    "diff_probas = np.zeros(num_classes)\n",
    "for i_class in range(num_classes):\n",
    "    for i in range(test_size):\n",
    "        pred_class = pred_y[i].argmax()\n",
    "        if pred_class == y_test[i].argmax():\n",
    "            diff_probas[pred_class] += (pred_y[i, pred_class] - second_largest(pred_y[i]))\n",
    "diff_probas /= test_size\n",
    "diff_probas\n",
    "\n",
    "print('\\n', file = f)\n",
    "print('Mean of difference between probability and second biggest when right = ', diff_probas, file = f)"
   ]
  },
  {
   "cell_type": "code",
   "execution_count": 47,
   "metadata": {},
   "outputs": [
    {
     "data": {
      "text/plain": [
       "array([0.9866943 , 0.85013646, 0.9330951 ])"
      ]
     },
     "execution_count": 47,
     "metadata": {},
     "output_type": "execute_result"
    }
   ],
   "source": [
    "diff_probas"
   ]
  },
  {
   "cell_type": "code",
   "execution_count": null,
   "metadata": {},
   "outputs": [],
   "source": []
  }
 ],
 "metadata": {
  "kernelspec": {
   "display_name": "Python 3",
   "language": "python",
   "name": "python3"
  },
  "language_info": {
   "codemirror_mode": {
    "name": "ipython",
    "version": 3
   },
   "file_extension": ".py",
   "mimetype": "text/x-python",
   "name": "python",
   "nbconvert_exporter": "python",
   "pygments_lexer": "ipython3",
   "version": "3.5.5"
  }
 },
 "nbformat": 4,
 "nbformat_minor": 2
}
